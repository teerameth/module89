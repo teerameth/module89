{
 "cells": [
  {
   "cell_type": "code",
   "execution_count": 1,
   "outputs": [],
   "source": [
    "BATCH_SIZE = 128\n",
    "IMAGE_SIZE = [224, 224, 3]\n",
    "NUM_CLASSES = 7\n",
    "\n",
    "colorNames = [\"black\", \"gold\", \"green\", \"pink\", \"silver\", \"wood\", \"yellow\"]"
   ],
   "metadata": {
    "collapsed": false,
    "pycharm": {
     "name": "#%%\n"
    }
   }
  },
  {
   "cell_type": "code",
   "execution_count": 2,
   "outputs": [
    {
     "name": "stderr",
     "output_type": "stream",
     "text": [
      "2022-04-24 22:09:46.959427: I tensorflow/stream_executor/cuda/cuda_gpu_executor.cc:936] successful NUMA node read from SysFS had negative value (-1), but there must be at least one NUMA node, so returning NUMA node zero\n",
      "2022-04-24 22:09:46.960229: I tensorflow/stream_executor/cuda/cuda_gpu_executor.cc:936] successful NUMA node read from SysFS had negative value (-1), but there must be at least one NUMA node, so returning NUMA node zero\n",
      "2022-04-24 22:09:46.968841: I tensorflow/stream_executor/cuda/cuda_gpu_executor.cc:936] successful NUMA node read from SysFS had negative value (-1), but there must be at least one NUMA node, so returning NUMA node zero\n",
      "2022-04-24 22:09:46.969455: I tensorflow/stream_executor/cuda/cuda_gpu_executor.cc:936] successful NUMA node read from SysFS had negative value (-1), but there must be at least one NUMA node, so returning NUMA node zero\n",
      "2022-04-24 22:09:46.970166: I tensorflow/stream_executor/cuda/cuda_gpu_executor.cc:936] successful NUMA node read from SysFS had negative value (-1), but there must be at least one NUMA node, so returning NUMA node zero\n",
      "2022-04-24 22:09:46.970882: I tensorflow/stream_executor/cuda/cuda_gpu_executor.cc:936] successful NUMA node read from SysFS had negative value (-1), but there must be at least one NUMA node, so returning NUMA node zero\n"
     ]
    }
   ],
   "source": [
    "import os\n",
    "import glob\n",
    "import json\n",
    "import numpy as np\n",
    "import tensorflow as tf\n",
    "import cv2\n",
    "import math\n",
    "from transform import order_points, poly2view_angle\n",
    "from tqdm import tqdm\n",
    "\n",
    "## Avoid to use all GPU(s)VRAM\n",
    "gpus = tf.config.experimental.list_physical_devices('GPU')\n",
    "for gpu in gpus: tf.config.experimental.set_memory_growth(gpu, True)\n",
    "\n",
    "# Converting the values into features\n",
    "def _int64_feature(value):  # _int64 is used for numeric values\n",
    "    return tf.train.Feature(int64_list=tf.train.Int64List(value=value))\n",
    "def _bytes_feature(value):  # _bytes is used for string/char values\n",
    "    return tf.train.Feature(bytes_list=tf.train.BytesList(value=[value]))\n",
    "def _float_feature(value):\n",
    "    return tf.train.Feature(float_list=tf.train.FloatList(value=value))\n",
    "tile_feature_description = {\n",
    "    'image': tf.io.FixedLenFeature([], tf.string),\n",
    "    'color': tf.io.FixedLenFeature([], tf.int64)\n",
    "}\n",
    "def _parse_image_function(example_proto):\n",
    "    data = tf.io.parse_single_example(example_proto, tile_feature_description) # Parse the input tf.train.Example proto using dictionary.\n",
    "    # label = data['label']\n",
    "    label = tf.one_hot(indices=data['color'], depth=NUM_CLASSES, on_value=1.0, off_value=0.0)\n",
    "    image = tf.io.decode_png(data['image'])  # Auto detect image shape when decoded\n",
    "    output = {}\n",
    "    # return [image], [label]\n",
    "    return image, label"
   ],
   "metadata": {
    "collapsed": false,
    "pycharm": {
     "name": "#%%\n"
    }
   }
  },
  {
   "cell_type": "code",
   "execution_count": 3,
   "outputs": [],
   "source": [
    "dataset_config = json.load(open(os.path.join('../../config/dataset_config.json')))\n",
    "output_path = dataset_config['capture_path']\n",
    "color_tfrecord_pattern = os.path.join(output_path, 'color.tfrecords-????-of-????')\n",
    "\n",
    "# strategy = tf.distribute.MirroredStrategy() # Not connected to a TPU runtime. Using CPU/GPU strategy"
   ],
   "metadata": {
    "collapsed": false,
    "pycharm": {
     "name": "#%%\n"
    }
   }
  },
  {
   "cell_type": "code",
   "execution_count": 4,
   "outputs": [
    {
     "name": "stderr",
     "output_type": "stream",
     "text": [
      "2022-04-24 22:09:46.982657: I tensorflow/core/platform/cpu_feature_guard.cc:151] This TensorFlow binary is optimized with oneAPI Deep Neural Network Library (oneDNN) to use the following CPU instructions in performance-critical operations:  AVX2 FMA\n",
      "To enable them in other operations, rebuild TensorFlow with the appropriate compiler flags.\n",
      "2022-04-24 22:09:47.126957: I tensorflow/stream_executor/cuda/cuda_gpu_executor.cc:936] successful NUMA node read from SysFS had negative value (-1), but there must be at least one NUMA node, so returning NUMA node zero\n",
      "2022-04-24 22:09:47.130785: I tensorflow/stream_executor/cuda/cuda_gpu_executor.cc:936] successful NUMA node read from SysFS had negative value (-1), but there must be at least one NUMA node, so returning NUMA node zero\n",
      "2022-04-24 22:09:47.131162: I tensorflow/stream_executor/cuda/cuda_gpu_executor.cc:936] successful NUMA node read from SysFS had negative value (-1), but there must be at least one NUMA node, so returning NUMA node zero\n",
      "2022-04-24 22:09:47.131577: I tensorflow/stream_executor/cuda/cuda_gpu_executor.cc:936] successful NUMA node read from SysFS had negative value (-1), but there must be at least one NUMA node, so returning NUMA node zero\n",
      "2022-04-24 22:09:47.131934: I tensorflow/stream_executor/cuda/cuda_gpu_executor.cc:936] successful NUMA node read from SysFS had negative value (-1), but there must be at least one NUMA node, so returning NUMA node zero\n",
      "2022-04-24 22:09:47.132346: I tensorflow/stream_executor/cuda/cuda_gpu_executor.cc:936] successful NUMA node read from SysFS had negative value (-1), but there must be at least one NUMA node, so returning NUMA node zero\n",
      "2022-04-24 22:09:47.851795: I tensorflow/stream_executor/cuda/cuda_gpu_executor.cc:936] successful NUMA node read from SysFS had negative value (-1), but there must be at least one NUMA node, so returning NUMA node zero\n",
      "2022-04-24 22:09:47.852286: I tensorflow/stream_executor/cuda/cuda_gpu_executor.cc:936] successful NUMA node read from SysFS had negative value (-1), but there must be at least one NUMA node, so returning NUMA node zero\n",
      "2022-04-24 22:09:47.852659: I tensorflow/stream_executor/cuda/cuda_gpu_executor.cc:936] successful NUMA node read from SysFS had negative value (-1), but there must be at least one NUMA node, so returning NUMA node zero\n",
      "2022-04-24 22:09:47.853080: I tensorflow/stream_executor/cuda/cuda_gpu_executor.cc:936] successful NUMA node read from SysFS had negative value (-1), but there must be at least one NUMA node, so returning NUMA node zero\n",
      "2022-04-24 22:09:47.853436: I tensorflow/stream_executor/cuda/cuda_gpu_executor.cc:936] successful NUMA node read from SysFS had negative value (-1), but there must be at least one NUMA node, so returning NUMA node zero\n",
      "2022-04-24 22:09:47.853912: I tensorflow/core/common_runtime/gpu/gpu_device.cc:1525] Created device /job:localhost/replica:0/task:0/device:GPU:0 with 9991 MB memory:  -> device: 0, name: NVIDIA Graphics Device, pci bus id: 0000:01:00.0, compute capability: 8.6\n",
      "2022-04-24 22:09:47.854221: I tensorflow/stream_executor/cuda/cuda_gpu_executor.cc:936] successful NUMA node read from SysFS had negative value (-1), but there must be at least one NUMA node, so returning NUMA node zero\n",
      "2022-04-24 22:09:47.854580: I tensorflow/core/common_runtime/gpu/gpu_device.cc:1525] Created device /job:localhost/replica:0/task:0/device:GPU:1 with 7405 MB memory:  -> device: 1, name: NVIDIA GeForce GTX 1070, pci bus id: 0000:02:00.0, compute capability: 6.1\n"
     ]
    }
   ],
   "source": [
    "shards = tf.data.TFRecordDataset.list_files(color_tfrecord_pattern)\n",
    "shards = shards.shuffle(buffer_size=1000) # Make sure to fully shuffle the list of tfrecord files.\n",
    "# Preprocesses 10 files concurrently and interleaves records from each file into a single, unified dataset.\n",
    "dataset = shards.interleave(\n",
    "    tf.data.TFRecordDataset,\n",
    "    cycle_length=10,\n",
    "    block_length=1)\n",
    "dataset = dataset.map(_parse_image_function, num_parallel_calls=4)\n",
    "split_filter = [0, 0, 0, 0, 0, 0, 0, 1, 1, 2]   # Use to filter dataset as train:val:test = 70:20:10\n",
    "train_set = dataset.enumerate() \\\n",
    "                    .filter(lambda x,y: x % 10 <= 6) \\\n",
    "                    .map(lambda x,y: y)\n",
    "val_set = dataset.enumerate() \\\n",
    "                    .filter(lambda x,y: x % 10 == 7 or x % 10 == 8) \\\n",
    "                    .map(lambda x,y: y)\n",
    "test_set = dataset.enumerate() \\\n",
    "                    .filter(lambda x,y: x % 10 == 9) \\\n",
    "                    .map(lambda x,y: y)\n",
    "train_set = train_set.shuffle(2000)\n",
    "train_set = train_set.batch(BATCH_SIZE, drop_remainder=True)\n",
    "val_set = val_set.shuffle(2000)\n",
    "val_set = val_set.batch(BATCH_SIZE, drop_remainder=True)\n",
    "test_set = test_set.shuffle(2000)\n",
    "test_set = test_set.batch(BATCH_SIZE, drop_remainder=True)"
   ],
   "metadata": {
    "collapsed": false,
    "pycharm": {
     "name": "#%%\n"
    }
   }
  },
  {
   "cell_type": "code",
   "execution_count": 5,
   "outputs": [
    {
     "name": "stdout",
     "output_type": "stream",
     "text": [
      "Number of layers in the base model:  154\n"
     ]
    }
   ],
   "source": [
    "from tensorflow.python.keras.models import Sequential\n",
    "\n",
    "base_learning_rate = 0.00005\n",
    "\n",
    "\n",
    "img_augmentation = Sequential(\n",
    "    [\n",
    "        tf.keras.layers.RandomRotation(factor=0.15),\n",
    "        tf.keras.layers.RandomTranslation(height_factor=0.1, width_factor=0.1),\n",
    "        tf.keras.layers.RandomFlip(),\n",
    "        tf.keras.layers.RandomContrast(factor=0.1),\n",
    "    ],\n",
    "    name=\"img_augmentation\",\n",
    ")\n",
    "# base_model = tf.keras.applications.EfficientNetB0(input_shape=IMAGE_SIZE,\n",
    "#                                                   include_top=False,\n",
    "#                                                   weights='imagenet')\n",
    "base_model = tf.keras.applications.MobileNetV2(input_shape=IMAGE_SIZE,\n",
    "                                               include_top=False,\n",
    "                                               weights='imagenet')\n",
    "\n",
    "# Add a classification head\n",
    "global_average_layer = tf.keras.layers.GlobalAveragePooling2D()\n",
    "prediction_layer = tf.keras.layers.Dense(NUM_CLASSES)\n",
    "\n",
    "inputs = tf.keras.layers.Input(shape=IMAGE_SIZE)\n",
    "x = img_augmentation(inputs)\n",
    "x = base_model(x, training=False)\n",
    "x = global_average_layer(x)\n",
    "x = tf.keras.layers.Dropout(0.2)(x)\n",
    "outputs = prediction_layer(x)\n",
    "model = tf.keras.Model(inputs, outputs)\n",
    "\n",
    "base_model.trainable = True # Unlock some layers\n",
    "print(\"Number of layers in the base model: \", len(base_model.layers))   # 154 for MobileNetV2, 237 for EfficientNetB0\n",
    "\n",
    "# unlock_at = 215\n",
    "# unlock_at = 125\n",
    "learning_rate = base_learning_rate\n",
    "\n",
    "# for layer in base_model.layers[:unlock_at]: layer.trainable = False     # Freeze all the layers before the `unlock_at` layer\n",
    "model.compile(optimizer=tf.keras.optimizers.Adam(learning_rate=learning_rate),\n",
    "          loss=tf.keras.losses.CategoricalCrossentropy(from_logits=True),\n",
    "          metrics=['accuracy'])\n"
   ],
   "metadata": {
    "collapsed": false,
    "pycharm": {
     "name": "#%%\n"
    }
   }
  },
  {
   "cell_type": "code",
   "execution_count": 6,
   "outputs": [
    {
     "name": "stdout",
     "output_type": "stream",
     "text": [
      "Model: \"model\"\n",
      "_________________________________________________________________\n",
      " Layer (type)                Output Shape              Param #   \n",
      "=================================================================\n",
      " input_2 (InputLayer)        [(None, 224, 224, 3)]     0         \n",
      "                                                                 \n",
      " random_rotation (RandomRota  (None, 224, 224, 3)      0         \n",
      " tion)                                                           \n",
      "                                                                 \n",
      " random_translation (RandomT  (None, 224, 224, 3)      0         \n",
      " ranslation)                                                     \n",
      "                                                                 \n",
      " random_flip (RandomFlip)    (None, 224, 224, 3)       0         \n",
      "                                                                 \n",
      " random_contrast (RandomCont  (None, 224, 224, 3)      0         \n",
      " rast)                                                           \n",
      "                                                                 \n",
      " mobilenetv2_1.00_224 (Funct  (None, 7, 7, 1280)       2257984   \n",
      " ional)                                                          \n",
      "                                                                 \n",
      " global_average_pooling2d (G  (None, 1280)             0         \n",
      " lobalAveragePooling2D)                                          \n",
      "                                                                 \n",
      " dropout (Dropout)           (None, 1280)              0         \n",
      "                                                                 \n",
      " dense (Dense)               (None, 7)                 8967      \n",
      "                                                                 \n",
      "=================================================================\n",
      "Total params: 2,266,951\n",
      "Trainable params: 2,232,839\n",
      "Non-trainable params: 34,112\n",
      "_________________________________________________________________\n"
     ]
    }
   ],
   "source": [
    "model.summary()"
   ],
   "metadata": {
    "collapsed": false,
    "pycharm": {
     "name": "#%%\n"
    }
   }
  },
  {
   "cell_type": "code",
   "execution_count": 7,
   "outputs": [
    {
     "data": {
      "text/plain": "158"
     },
     "execution_count": 7,
     "metadata": {},
     "output_type": "execute_result"
    }
   ],
   "source": [
    "len(model.trainable_variables)"
   ],
   "metadata": {
    "collapsed": false,
    "pycharm": {
     "name": "#%%\n"
    }
   }
  },
  {
   "cell_type": "code",
   "execution_count": 8,
   "outputs": [
    {
     "name": "stderr",
     "output_type": "stream",
     "text": [
      "2022-04-24 22:09:56.816418: W tensorflow/core/framework/cpu_allocator_impl.cc:82] Allocation of 19267584 exceeds 10% of free system memory.\n",
      "2022-04-24 22:09:57.602607: I tensorflow/stream_executor/cuda/cuda_dnn.cc:368] Loaded cuDNN version 8204\n",
      "2022-04-24 22:09:58.801959: I tensorflow/core/platform/default/subprocess.cc:304] Start cannot spawn child process: No such file or directory\n"
     ]
    },
    {
     "name": "stdout",
     "output_type": "stream",
     "text": [
      "      1/Unknown - 11s 11s/step - loss: 2.3499 - accuracy: 0.1484"
     ]
    },
    {
     "name": "stderr",
     "output_type": "stream",
     "text": [
      "2022-04-24 22:10:00.372054: I tensorflow/stream_executor/cuda/cuda_blas.cc:1786] TensorFloat-32 will be used for the matrix multiplication. This will only be logged once.\n"
     ]
    },
    {
     "name": "stdout",
     "output_type": "stream",
     "text": [
      "      2/Unknown - 12s 642ms/step - loss: 2.4227 - accuracy: 0.1406"
     ]
    },
    {
     "name": "stderr",
     "output_type": "stream",
     "text": [
      "2022-04-24 22:10:00.881194: W tensorflow/core/framework/cpu_allocator_impl.cc:82] Allocation of 19267584 exceeds 10% of free system memory.\n"
     ]
    },
    {
     "name": "stdout",
     "output_type": "stream",
     "text": [
      "      3/Unknown - 13s 634ms/step - loss: 2.3640 - accuracy: 0.1589"
     ]
    },
    {
     "name": "stderr",
     "output_type": "stream",
     "text": [
      "2022-04-24 22:10:01.540832: W tensorflow/core/framework/cpu_allocator_impl.cc:82] Allocation of 19267584 exceeds 10% of free system memory.\n"
     ]
    },
    {
     "name": "stdout",
     "output_type": "stream",
     "text": [
      "      4/Unknown - 13s 657ms/step - loss: 2.3444 - accuracy: 0.1562"
     ]
    },
    {
     "name": "stderr",
     "output_type": "stream",
     "text": [
      "2022-04-24 22:10:02.234104: W tensorflow/core/framework/cpu_allocator_impl.cc:82] Allocation of 19267584 exceeds 10% of free system memory.\n"
     ]
    },
    {
     "name": "stdout",
     "output_type": "stream",
     "text": [
      "      5/Unknown - 14s 694ms/step - loss: 2.3262 - accuracy: 0.1531"
     ]
    },
    {
     "name": "stderr",
     "output_type": "stream",
     "text": [
      "2022-04-24 22:10:03.036335: W tensorflow/core/framework/cpu_allocator_impl.cc:82] Allocation of 19267584 exceeds 10% of free system memory.\n"
     ]
    },
    {
     "name": "stdout",
     "output_type": "stream",
     "text": [
      "82/82 [==============================] - 62s 625ms/step - loss: 2.3894 - accuracy: 0.1358\n",
      "initial loss: 2.39\n",
      "initial accuracy: 0.14\n"
     ]
    }
   ],
   "source": [
    "# First validation (before training: should be 16.67%)\n",
    "initial_epochs = 20\n",
    "loss0, accuracy0 = model.evaluate(test_set)\n",
    "print(\"initial loss: {:.2f}\".format(loss0))\n",
    "print(\"initial accuracy: {:.2f}\".format(accuracy0))"
   ],
   "metadata": {
    "collapsed": false,
    "pycharm": {
     "name": "#%%\n"
    }
   }
  },
  {
   "cell_type": "code",
   "execution_count": 9,
   "outputs": [
    {
     "name": "stdout",
     "output_type": "stream",
     "text": [
      "Epoch 1/20\n",
      "578/578 [==============================] - 479s 818ms/step - loss: 0.4018 - accuracy: 0.8471 - val_loss: 0.1552 - val_accuracy: 0.9462\n",
      "Epoch 2/20\n",
      "578/578 [==============================] - 486s 839ms/step - loss: 0.0982 - accuracy: 0.9651 - val_loss: 0.1033 - val_accuracy: 0.9644\n",
      "Epoch 3/20\n",
      "578/578 [==============================] - 486s 839ms/step - loss: 0.0589 - accuracy: 0.9791 - val_loss: 0.0624 - val_accuracy: 0.9781\n",
      "Epoch 4/20\n",
      "578/578 [==============================] - 466s 804ms/step - loss: 0.0487 - accuracy: 0.9831 - val_loss: 0.0997 - val_accuracy: 0.9695\n",
      "Epoch 5/20\n",
      "578/578 [==============================] - 447s 772ms/step - loss: 0.0400 - accuracy: 0.9863 - val_loss: 0.0697 - val_accuracy: 0.9760\n",
      "Epoch 6/20\n",
      "578/578 [==============================] - 447s 772ms/step - loss: 0.0353 - accuracy: 0.9878 - val_loss: 0.0745 - val_accuracy: 0.9760\n",
      "Epoch 7/20\n",
      "578/578 [==============================] - 458s 791ms/step - loss: 0.0288 - accuracy: 0.9898 - val_loss: 0.0292 - val_accuracy: 0.9910\n",
      "Epoch 8/20\n",
      "578/578 [==============================] - 475s 820ms/step - loss: 0.0248 - accuracy: 0.9913 - val_loss: 0.0520 - val_accuracy: 0.9824\n",
      "Epoch 9/20\n",
      "578/578 [==============================] - 476s 822ms/step - loss: 0.0209 - accuracy: 0.9925 - val_loss: 0.0202 - val_accuracy: 0.9931\n",
      "Epoch 10/20\n",
      "578/578 [==============================] - 484s 835ms/step - loss: 0.0235 - accuracy: 0.9920 - val_loss: 0.0440 - val_accuracy: 0.9849\n",
      "Epoch 11/20\n",
      "578/578 [==============================] - 483s 835ms/step - loss: 0.0173 - accuracy: 0.9942 - val_loss: 0.2042 - val_accuracy: 0.9488\n",
      "Epoch 12/20\n",
      "578/578 [==============================] - 474s 819ms/step - loss: 0.0184 - accuracy: 0.9941 - val_loss: 0.0944 - val_accuracy: 0.9680\n",
      "Epoch 13/20\n",
      "578/578 [==============================] - 437s 754ms/step - loss: 0.0161 - accuracy: 0.9947 - val_loss: 0.0230 - val_accuracy: 0.9927\n",
      "Epoch 14/20\n",
      "578/578 [==============================] - 432s 746ms/step - loss: 0.0150 - accuracy: 0.9949 - val_loss: 0.0736 - val_accuracy: 0.9792\n",
      "Epoch 15/20\n",
      "578/578 [==============================] - 433s 748ms/step - loss: 0.0134 - accuracy: 0.9955 - val_loss: 0.0824 - val_accuracy: 0.9761\n",
      "Epoch 16/20\n",
      "578/578 [==============================] - 432s 745ms/step - loss: 0.0147 - accuracy: 0.9951 - val_loss: 0.0439 - val_accuracy: 0.9866\n",
      "Epoch 17/20\n",
      "578/578 [==============================] - 430s 743ms/step - loss: 0.0127 - accuracy: 0.9957 - val_loss: 0.0080 - val_accuracy: 0.9971\n",
      "Epoch 18/20\n",
      "578/578 [==============================] - 430s 743ms/step - loss: 0.0124 - accuracy: 0.9959 - val_loss: 0.0183 - val_accuracy: 0.9942\n",
      "Epoch 19/20\n",
      "578/578 [==============================] - 429s 741ms/step - loss: 0.0116 - accuracy: 0.9961 - val_loss: 0.1072 - val_accuracy: 0.9687\n",
      "Epoch 20/20\n",
      "578/578 [==============================] - 430s 742ms/step - loss: 0.0111 - accuracy: 0.9964 - val_loss: 0.0117 - val_accuracy: 0.9962\n"
     ]
    }
   ],
   "source": [
    "# Initial Training\n",
    "history = model.fit(train_set,\n",
    "                    epochs=initial_epochs,\n",
    "                    validation_data=val_set)"
   ],
   "metadata": {
    "collapsed": false,
    "pycharm": {
     "name": "#%%\n"
    }
   }
  },
  {
   "cell_type": "code",
   "execution_count": 10,
   "outputs": [
    {
     "data": {
      "text/plain": "<Figure size 576x576 with 2 Axes>",
      "image/png": "[encoded data removed]"
     },
     "metadata": {
      "needs_background": "light"
     },
     "output_type": "display_data"
    }
   ],
   "source": [
    "import matplotlib.pyplot as plt\n",
    "acc = history.history['accuracy']\n",
    "val_acc = history.history['val_accuracy']\n",
    "\n",
    "loss = history.history['loss']\n",
    "val_loss = history.history['val_loss']\n",
    "\n",
    "plt.figure(figsize=(8, 8))\n",
    "plt.subplot(2, 1, 1)\n",
    "plt.plot(acc, label='Training Accuracy')\n",
    "plt.plot(val_acc, label='Validation Accuracy')\n",
    "plt.legend(loc='lower right')\n",
    "plt.ylabel('Accuracy')\n",
    "plt.ylim([min(plt.ylim()),1])\n",
    "plt.title('Training and Validation Accuracy')\n",
    "\n",
    "plt.subplot(2, 1, 2)\n",
    "plt.plot(loss, label='Training Loss')\n",
    "plt.plot(val_loss, label='Validation Loss')\n",
    "plt.legend(loc='upper right')\n",
    "plt.ylabel('Cross Entropy')\n",
    "plt.ylim([0,1.0])\n",
    "plt.title('Training and Validation Loss')\n",
    "plt.xlabel('epoch')\n",
    "plt.show()"
   ],
   "metadata": {
    "collapsed": false,
    "pycharm": {
     "name": "#%%\n"
    }
   }
  },
  {
   "cell_type": "code",
   "execution_count": 11,
   "outputs": [
    {
     "name": "stdout",
     "output_type": "stream",
     "text": [
      "Model: \"model\"\n",
      "_________________________________________________________________\n",
      " Layer (type)                Output Shape              Param #   \n",
      "=================================================================\n",
      " input_2 (InputLayer)        [(None, 224, 224, 3)]     0         \n",
      "                                                                 \n",
      " random_rotation (RandomRota  (None, 224, 224, 3)      0         \n",
      " tion)                                                           \n",
      "                                                                 \n",
      " random_translation (RandomT  (None, 224, 224, 3)      0         \n",
      " ranslation)                                                     \n",
      "                                                                 \n",
      " random_flip (RandomFlip)    (None, 224, 224, 3)       0         \n",
      "                                                                 \n",
      " random_contrast (RandomCont  (None, 224, 224, 3)      0         \n",
      " rast)                                                           \n",
      "                                                                 \n",
      " mobilenetv2_1.00_224 (Funct  (None, 7, 7, 1280)       2257984   \n",
      " ional)                                                          \n",
      "                                                                 \n",
      " global_average_pooling2d (G  (None, 1280)             0         \n",
      " lobalAveragePooling2D)                                          \n",
      "                                                                 \n",
      " dropout (Dropout)           (None, 1280)              0         \n",
      "                                                                 \n",
      " dense (Dense)               (None, 7)                 8967      \n",
      "                                                                 \n",
      "=================================================================\n",
      "Total params: 2,266,951\n",
      "Trainable params: 2,232,839\n",
      "Non-trainable params: 34,112\n",
      "_________________________________________________________________\n"
     ]
    }
   ],
   "source": [
    "# unlock_at = 175\n",
    "# unlock_at = 100\n",
    "# for layer in base_model.layers[:unlock_at]:layer.trainable = False     # Freeze all the layers before the `unlock_at` layer\n",
    "# for layer in base_model.layers[unlock_at:]:layer.trainable = True\n",
    "learning_rate = base_learning_rate/10   # Lowering learning rate to 10% to prevent overfit\n",
    "model.summary()"
   ],
   "metadata": {
    "collapsed": false,
    "pycharm": {
     "name": "#%%\n"
    }
   }
  },
  {
   "cell_type": "code",
   "execution_count": 12,
   "outputs": [
    {
     "data": {
      "text/plain": "158"
     },
     "execution_count": 12,
     "metadata": {},
     "output_type": "execute_result"
    }
   ],
   "source": [
    "len(model.trainable_variables)"
   ],
   "metadata": {
    "collapsed": false,
    "pycharm": {
     "name": "#%%\n"
    }
   }
  },
  {
   "cell_type": "code",
   "execution_count": 13,
   "outputs": [
    {
     "name": "stdout",
     "output_type": "stream",
     "text": [
      "Epoch 20/40\n",
      "578/578 [==============================] - 429s 742ms/step - loss: 0.0109 - accuracy: 0.9964 - val_loss: 0.0445 - val_accuracy: 0.9856\n",
      "Epoch 21/40\n",
      "578/578 [==============================] - 441s 762ms/step - loss: 0.0106 - accuracy: 0.9966 - val_loss: 0.0232 - val_accuracy: 0.9933\n",
      "Epoch 22/40\n",
      "578/578 [==============================] - 443s 764ms/step - loss: 0.0098 - accuracy: 0.9969 - val_loss: 0.0105 - val_accuracy: 0.9965\n",
      "Epoch 23/40\n",
      "578/578 [==============================] - 442s 764ms/step - loss: 0.0075 - accuracy: 0.9975 - val_loss: 0.0119 - val_accuracy: 0.9962\n",
      "Epoch 24/40\n",
      "578/578 [==============================] - 442s 764ms/step - loss: 0.0093 - accuracy: 0.9969 - val_loss: 0.0194 - val_accuracy: 0.9934\n",
      "Epoch 25/40\n",
      "578/578 [==============================] - 443s 765ms/step - loss: 0.0087 - accuracy: 0.9972 - val_loss: 0.0196 - val_accuracy: 0.9947\n",
      "Epoch 26/40\n",
      "578/578 [==============================] - 442s 763ms/step - loss: 0.0085 - accuracy: 0.9971 - val_loss: 0.0157 - val_accuracy: 0.9947\n",
      "Epoch 27/40\n",
      "578/578 [==============================] - 441s 761ms/step - loss: 0.0088 - accuracy: 0.9971 - val_loss: 0.0134 - val_accuracy: 0.9949\n",
      "Epoch 28/40\n",
      "578/578 [==============================] - 443s 766ms/step - loss: 0.0060 - accuracy: 0.9980 - val_loss: 0.0217 - val_accuracy: 0.9928\n",
      "Epoch 29/40\n",
      "578/578 [==============================] - 442s 764ms/step - loss: 0.0074 - accuracy: 0.9976 - val_loss: 0.0903 - val_accuracy: 0.9736\n",
      "Epoch 30/40\n",
      "578/578 [==============================] - 443s 766ms/step - loss: 0.0081 - accuracy: 0.9974 - val_loss: 0.0308 - val_accuracy: 0.9900\n",
      "Epoch 31/40\n",
      "578/578 [==============================] - 443s 765ms/step - loss: 0.0050 - accuracy: 0.9982 - val_loss: 0.0660 - val_accuracy: 0.9829\n",
      "Epoch 32/40\n",
      "578/578 [==============================] - 438s 757ms/step - loss: 0.0101 - accuracy: 0.9967 - val_loss: 0.0035 - val_accuracy: 0.9987\n",
      "Epoch 33/40\n",
      "578/578 [==============================] - 443s 764ms/step - loss: 0.0048 - accuracy: 0.9984 - val_loss: 0.0085 - val_accuracy: 0.9974\n",
      "Epoch 34/40\n",
      "578/578 [==============================] - 443s 765ms/step - loss: 0.0058 - accuracy: 0.9981 - val_loss: 0.0152 - val_accuracy: 0.9948\n",
      "Epoch 35/40\n",
      "578/578 [==============================] - 442s 764ms/step - loss: 0.0075 - accuracy: 0.9978 - val_loss: 0.0062 - val_accuracy: 0.9977\n",
      "Epoch 36/40\n",
      "578/578 [==============================] - 441s 762ms/step - loss: 0.0048 - accuracy: 0.9985 - val_loss: 0.0063 - val_accuracy: 0.9981\n",
      "Epoch 37/40\n",
      "578/578 [==============================] - 442s 763ms/step - loss: 0.0066 - accuracy: 0.9979 - val_loss: 0.0588 - val_accuracy: 0.9841\n",
      "Epoch 38/40\n",
      "578/578 [==============================] - 441s 762ms/step - loss: 0.0055 - accuracy: 0.9981 - val_loss: 0.0024 - val_accuracy: 0.9992\n",
      "Epoch 39/40\n",
      "578/578 [==============================] - 443s 765ms/step - loss: 0.0076 - accuracy: 0.9974 - val_loss: 0.0213 - val_accuracy: 0.9923\n",
      "Epoch 40/40\n",
      "578/578 [==============================] - 445s 768ms/step - loss: 0.0042 - accuracy: 0.9987 - val_loss: 0.0048 - val_accuracy: 0.9984\n"
     ]
    }
   ],
   "source": [
    "fine_tune_epochs = 20\n",
    "total_epochs =  initial_epochs + fine_tune_epochs\n",
    "\n",
    "history_fine = model.fit(train_set,\n",
    "                         epochs=total_epochs,\n",
    "                         initial_epoch=history.epoch[-1],\n",
    "                         validation_data=val_set)"
   ],
   "metadata": {
    "collapsed": false,
    "pycharm": {
     "name": "#%%\n"
    }
   }
  },
  {
   "cell_type": "code",
   "execution_count": 14,
   "outputs": [],
   "source": [
    "acc += history_fine.history['accuracy']\n",
    "val_acc += history_fine.history['val_accuracy']\n",
    "\n",
    "loss += history_fine.history['loss']\n",
    "val_loss += history_fine.history['val_loss']"
   ],
   "metadata": {
    "collapsed": false,
    "pycharm": {
     "name": "#%%\n"
    }
   }
  },
  {
   "cell_type": "code",
   "execution_count": 15,
   "outputs": [
    {
     "data": {
      "text/plain": "<Figure size 576x576 with 2 Axes>",
      "image/png": "[encoded data removed]"
     },
     "metadata": {
      "needs_background": "light"
     },
     "output_type": "display_data"
    }
   ],
   "source": [
    "plt.figure(figsize=(8, 8))\n",
    "plt.subplot(2, 1, 1)\n",
    "plt.plot(acc, label='Training Accuracy')\n",
    "plt.plot(val_acc, label='Validation Accuracy')\n",
    "plt.ylim([0.8, 1])\n",
    "plt.plot([initial_epochs-1,initial_epochs-1],\n",
    "          plt.ylim(), label='Start Fine Tuning')\n",
    "plt.legend(loc='lower right')\n",
    "plt.title('Training and Validation Accuracy')\n",
    "\n",
    "plt.subplot(2, 1, 2)\n",
    "plt.plot(loss, label='Training Loss')\n",
    "plt.plot(val_loss, label='Validation Loss')\n",
    "plt.ylim([0, 1.0])\n",
    "plt.plot([initial_epochs-1,initial_epochs-1],\n",
    "         plt.ylim(), label='Start Fine Tuning')\n",
    "plt.legend(loc='upper right')\n",
    "plt.title('Training and Validation Loss')\n",
    "plt.xlabel('epoch')\n",
    "plt.show()"
   ],
   "metadata": {
    "collapsed": false,
    "pycharm": {
     "name": "#%%\n"
    }
   }
  },
  {
   "cell_type": "code",
   "execution_count": 16,
   "outputs": [
    {
     "name": "stdout",
     "output_type": "stream",
     "text": [
      "82/82 [==============================] - 38s 387ms/step - loss: 0.0060 - accuracy: 0.9978\n",
      "Test accuracy : 0.9978086948394775\n"
     ]
    }
   ],
   "source": [
    "loss, accuracy = model.evaluate(test_set)\n",
    "print('Test accuracy :', accuracy)"
   ],
   "metadata": {
    "collapsed": false,
    "pycharm": {
     "name": "#%%\n"
    }
   }
  },
  {
   "cell_type": "code",
   "execution_count": 17,
   "outputs": [],
   "source": [
    "# Save checkpoint\n",
    "checkpoint_path = \"/media/teera/SSD250GB/model/classification/chess/MobileNetV2_color/cp-{epoch:04d}.ckpt\"\n",
    "model.save_weights(checkpoint_path.format(epoch=20))"
   ],
   "metadata": {
    "collapsed": false,
    "pycharm": {
     "name": "#%%\n"
    }
   }
  },
  {
   "cell_type": "code",
   "execution_count": 18,
   "outputs": [],
   "source": [
    "model.save('/media/teera/SSD250GB/model/classification/chess/MobileNetV2_color/model.h5')"
   ],
   "metadata": {
    "collapsed": false,
    "pycharm": {
     "name": "#%%\n"
    }
   }
  },
  {
   "cell_type": "code",
   "execution_count": 19,
   "outputs": [
    {
     "name": "stdout",
     "output_type": "stream",
     "text": [
      "Model: \"model\"\n",
      "_________________________________________________________________\n",
      " Layer (type)                Output Shape              Param #   \n",
      "=================================================================\n",
      " input_2 (InputLayer)        [(None, 224, 224, 3)]     0         \n",
      "                                                                 \n",
      " random_rotation (RandomRota  (None, 224, 224, 3)      0         \n",
      " tion)                                                           \n",
      "                                                                 \n",
      " random_translation (RandomT  (None, 224, 224, 3)      0         \n",
      " ranslation)                                                     \n",
      "                                                                 \n",
      " random_flip (RandomFlip)    (None, 224, 224, 3)       0         \n",
      "                                                                 \n",
      " random_contrast (RandomCont  (None, 224, 224, 3)      0         \n",
      " rast)                                                           \n",
      "                                                                 \n",
      " mobilenetv2_1.00_224 (Funct  (None, 7, 7, 1280)       2257984   \n",
      " ional)                                                          \n",
      "                                                                 \n",
      " global_average_pooling2d (G  (None, 1280)             0         \n",
      " lobalAveragePooling2D)                                          \n",
      "                                                                 \n",
      " dropout (Dropout)           (None, 1280)              0         \n",
      "                                                                 \n",
      " dense (Dense)               (None, 7)                 8967      \n",
      "                                                                 \n",
      "=================================================================\n",
      "Total params: 2,266,951\n",
      "Trainable params: 2,232,839\n",
      "Non-trainable params: 34,112\n",
      "_________________________________________________________________\n"
     ]
    }
   ],
   "source": [
    "savedModel = tf.keras.models.load_model('/media/teera/SSD250GB/model/classification/chess/MobileNetV2_color/model.h5')\n",
    "savedModel.summary()"
   ],
   "metadata": {
    "collapsed": false,
    "pycharm": {
     "name": "#%%\n"
    }
   }
  },
  {
   "cell_type": "code",
   "execution_count": 19,
   "outputs": [],
   "source": [],
   "metadata": {
    "collapsed": false,
    "pycharm": {
     "name": "#%%\n"
    }
   }
  }
 ],
 "metadata": {
  "kernelspec": {
   "display_name": "Python 3",
   "language": "python",
   "name": "python3"
  },
  "language_info": {
   "codemirror_mode": {
    "name": "ipython",
    "version": 2
   },
   "file_extension": ".py",
   "mimetype": "text/x-python",
   "name": "python",
   "nbconvert_exporter": "python",
   "pygments_lexer": "ipython2",
   "version": "2.7.6"
  }
 },
 "nbformat": 4,
 "nbformat_minor": 0
}