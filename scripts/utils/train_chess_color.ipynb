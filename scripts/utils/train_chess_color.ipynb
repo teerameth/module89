{
 "cells": [
  {
   "cell_type": "code",
   "execution_count": 1,
   "outputs": [],
   "source": [
    "BATCH_SIZE = 512\n",
    "IMAGE_SIZE = [100, 100, 3]\n",
    "NUM_CLASSES = 7\n",
    "\n",
    "colorNames = [\"black\", \"gold\", \"green\", \"pink\", \"silver\", \"wood\", \"yellow\"]"
   ],
   "metadata": {
    "collapsed": false,
    "pycharm": {
     "name": "#%%\n"
    }
   }
  },
  {
   "cell_type": "code",
   "execution_count": 2,
   "outputs": [],
   "source": [
    "import os\n",
    "import json\n",
    "import numpy as np\n",
    "import tensorflow as tf\n",
    "import cv2\n",
    "\n",
    "## Avoid to use all GPU(s)VRAM\n",
    "gpus = tf.config.experimental.list_physical_devices('GPU')\n",
    "for gpu in gpus: tf.config.experimental.set_memory_growth(gpu, True)\n",
    "\n",
    "# Converting the values into features\n",
    "def _int64_feature(value):  # _int64 is used for numeric values\n",
    "    return tf.train.Feature(int64_list=tf.train.Int64List(value=value))\n",
    "def _bytes_feature(value):  # _bytes is used for string/char values\n",
    "    return tf.train.Feature(bytes_list=tf.train.BytesList(value=[value]))\n",
    "def _float_feature(value):\n",
    "    return tf.train.Feature(float_list=tf.train.FloatList(value=value))\n",
    "tile_feature_description = {\n",
    "    'image': tf.io.FixedLenFeature([], tf.string),\n",
    "    'color': tf.io.FixedLenFeature([], tf.int64)\n",
    "}\n",
    "def _parse_image_function(example_proto):\n",
    "    data = tf.io.parse_single_example(example_proto, tile_feature_description) # Parse the input tf.train.Example proto using dictionary.\n",
    "    # label = data['label']\n",
    "    label = tf.one_hot(indices=data['color'], depth=NUM_CLASSES, on_value=1.0, off_value=0.0)\n",
    "    image = tf.io.decode_png(data['image'])  # Auto detect image shape when decoded\n",
    "    output = {}\n",
    "    # return [image], [label]\n",
    "    return image, label"
   ],
   "metadata": {
    "collapsed": false,
    "pycharm": {
     "name": "#%%\n"
    }
   }
  },
  {
   "cell_type": "code",
   "execution_count": 3,
   "outputs": [],
   "source": [
    "dataset_config = json.load(open(os.path.join('../../config/dataset_config.json')))\n",
    "output_path = dataset_config['capture_path']\n",
    "color_tfrecord_pattern = os.path.join(output_path, 'color.tfrecords-????-of-????')"
   ],
   "metadata": {
    "collapsed": false,
    "pycharm": {
     "name": "#%%\n"
    }
   }
  },
  {
   "cell_type": "code",
   "execution_count": 4,
   "outputs": [],
   "source": [
    "shards = tf.data.TFRecordDataset.list_files(color_tfrecord_pattern)\n",
    "shards = shards.shuffle(buffer_size=1000) # Make sure to fully shuffle the list of tfrecord files.\n",
    "# Preprocesses 10 files concurrently and interleaves records from each file into a single, unified dataset.\n",
    "dataset = shards.interleave(\n",
    "    tf.data.TFRecordDataset,\n",
    "    cycle_length=10,\n",
    "    block_length=1)\n",
    "dataset = dataset.map(_parse_image_function, num_parallel_calls=4)\n",
    "split_filter = [0, 0, 0, 0, 0, 0, 0, 1, 1, 2]   # Use to filter dataset as train:val:test = 70:20:10\n",
    "train_set = dataset.enumerate() \\\n",
    "                    .filter(lambda x,y: x % 10 <= 6) \\\n",
    "                    .map(lambda x,y: y)\n",
    "val_set = dataset.enumerate() \\\n",
    "                    .filter(lambda x,y: x % 10 == 7 or x % 10 == 8) \\\n",
    "                    .map(lambda x,y: y)\n",
    "test_set = dataset.enumerate() \\\n",
    "                    .filter(lambda x,y: x % 10 == 9) \\\n",
    "                    .map(lambda x,y: y)\n",
    "train_set = train_set.shuffle(2000)\n",
    "train_set = train_set.batch(BATCH_SIZE, drop_remainder=True)\n",
    "val_set = val_set.shuffle(2000)\n",
    "val_set = val_set.batch(BATCH_SIZE, drop_remainder=True)\n",
    "test_set = test_set.shuffle(2000)\n",
    "test_set = test_set.batch(BATCH_SIZE, drop_remainder=True)"
   ],
   "metadata": {
    "collapsed": false,
    "pycharm": {
     "name": "#%%\n"
    }
   }
  },
  {
   "cell_type": "code",
   "execution_count": 5,
   "outputs": [],
   "source": [
    "from tensorflow.python.keras.models import Sequential\n",
    "\n",
    "img_augmentation = Sequential(\n",
    "    [\n",
    "        tf.keras.layers.experimental.preprocessing.RandomRotation(0.1),\n",
    "        tf.keras.layers.experimental.preprocessing.RandomTranslation(height_factor=0.1, width_factor=0.1),\n",
    "        tf.keras.layers.experimental.preprocessing.RandomFlip(),\n",
    "        tf.keras.layers.experimental.preprocessing.RandomContrast(factor=0.1),\n",
    "        tf.keras.layers.experimental.preprocessing.RandomZoom(0.1),\n",
    "    ],\n",
    "    name=\"img_augmentation\",\n",
    ")\n",
    "\n",
    "# base_model = tf.keras.applications.EfficientNetB0(input_shape=IMAGE_SIZE,\n",
    "#                                                   include_top=False,\n",
    "#                                                   weights='imagenet')\n",
    "# base_model = tf.keras.applications.MobileNetV2(input_shape=IMAGE_SIZE,\n",
    "#                                                include_top=False,\n",
    "#                                                weights='imagenet')\n",
    "\n",
    "base_model = Sequential([\n",
    "    tf.keras.layers.experimental.preprocessing.Rescaling(1./255),\n",
    "    tf.keras.layers.Conv2D(16, 3, padding='same', activation='relu'),\n",
    "    tf.keras.layers.MaxPooling2D(),\n",
    "    tf.keras.layers.Conv2D(32, 3, padding='same', activation='relu'),\n",
    "    tf.keras.layers.MaxPooling2D(),\n",
    "    tf.keras.layers.Conv2D(64, 3, padding='same', activation='relu'),\n",
    "    tf.keras.layers.MaxPooling2D(),\n",
    "    tf.keras.layers.Dropout(0.2),\n",
    "    tf.keras.layers.Flatten(),\n",
    "    tf.keras.layers.Dense(128, activation='relu'),\n",
    "    tf.keras.layers.Dropout(0.2),\n",
    "    tf.keras.layers.Dense(NUM_CLASSES) # 7 classes prediction\n",
    "])"
   ],
   "metadata": {
    "collapsed": false,
    "pycharm": {
     "name": "#%%\n"
    }
   }
  },
  {
   "cell_type": "code",
   "execution_count": 6,
   "outputs": [],
   "source": [
    "inputs = tf.keras.layers.Input(shape=IMAGE_SIZE)\n",
    "x = img_augmentation(inputs)\n",
    "outputs = base_model(x, training=True)\n",
    "model = tf.keras.Model(inputs, outputs)\n",
    "\n",
    "# for layer in base_model.layers[:unlock_at]: layer.trainable = False     # Freeze all the layers before the `unlock_at` layer\n",
    "model.compile(optimizer=tf.keras.optimizers.Adam(learning_rate=0.00005),\n",
    "          loss=tf.keras.losses.CategoricalCrossentropy(from_logits=True),\n",
    "          metrics=['accuracy'])"
   ],
   "metadata": {
    "collapsed": false,
    "pycharm": {
     "name": "#%%\n"
    }
   }
  },
  {
   "cell_type": "code",
   "execution_count": 7,
   "outputs": [
    {
     "name": "stdout",
     "output_type": "stream",
     "text": [
      "Model: \"model\"\n",
      "_________________________________________________________________\n",
      "Layer (type)                 Output Shape              Param #   \n",
      "=================================================================\n",
      "input_1 (InputLayer)         [(None, 100, 100, 3)]     0         \n",
      "_________________________________________________________________\n",
      "img_augmentation (Sequential (None, 100, 100, 3)       0         \n",
      "_________________________________________________________________\n",
      "sequential (Sequential)      (None, 7)                 1204263   \n",
      "=================================================================\n",
      "Total params: 1,204,263\n",
      "Trainable params: 1,204,263\n",
      "Non-trainable params: 0\n",
      "_________________________________________________________________\n"
     ]
    }
   ],
   "source": [
    "model.summary()"
   ],
   "metadata": {
    "collapsed": false,
    "pycharm": {
     "name": "#%%\n"
    }
   }
  },
  {
   "cell_type": "code",
   "execution_count": 8,
   "outputs": [
    {
     "data": {
      "text/plain": "10"
     },
     "execution_count": 8,
     "metadata": {},
     "output_type": "execute_result"
    }
   ],
   "source": [
    "len(model.trainable_variables)"
   ],
   "metadata": {
    "collapsed": false,
    "pycharm": {
     "name": "#%%\n"
    }
   }
  },
  {
   "cell_type": "code",
   "execution_count": 9,
   "outputs": [
    {
     "name": "stdout",
     "output_type": "stream",
     "text": [
      "20/20 [==============================] - 9s 308ms/step - loss: 1.9623 - accuracy: 0.1406\n",
      "initial loss: 1.96\n",
      "initial accuracy: 0.14\n"
     ]
    }
   ],
   "source": [
    "# First validation (before training: should be around 14.28% due to balanced 7 classes)\n",
    "loss0, accuracy0 = model.evaluate(test_set)\n",
    "print(\"initial loss: {:.2f}\".format(loss0))\n",
    "print(\"initial accuracy: {:.2f}\".format(accuracy0))"
   ],
   "metadata": {
    "collapsed": false,
    "pycharm": {
     "name": "#%%\n"
    }
   }
  },
  {
   "cell_type": "code",
   "execution_count": 10,
   "outputs": [
    {
     "name": "stdout",
     "output_type": "stream",
     "text": [
      "Epoch 1/20\n",
      "144/144 [==============================] - 23s 149ms/step - loss: 1.6525 - accuracy: 0.3760 - val_loss: 1.2012 - val_accuracy: 0.5713\n",
      "Epoch 2/20\n",
      "144/144 [==============================] - 21s 145ms/step - loss: 0.9625 - accuracy: 0.6449 - val_loss: 0.6540 - val_accuracy: 0.7631\n",
      "Epoch 3/20\n",
      "144/144 [==============================] - 21s 141ms/step - loss: 0.6415 - accuracy: 0.7671 - val_loss: 0.4965 - val_accuracy: 0.8119\n",
      "Epoch 4/20\n",
      "144/144 [==============================] - 20s 141ms/step - loss: 0.5136 - accuracy: 0.8116 - val_loss: 0.4061 - val_accuracy: 0.8499\n",
      "Epoch 5/20\n",
      "144/144 [==============================] - 20s 141ms/step - loss: 0.4630 - accuracy: 0.8312 - val_loss: 0.3454 - val_accuracy: 0.8749\n",
      "Epoch 6/20\n",
      "144/144 [==============================] - 21s 146ms/step - loss: 0.4164 - accuracy: 0.8504 - val_loss: 0.3152 - val_accuracy: 0.8873\n",
      "Epoch 7/20\n",
      "144/144 [==============================] - 21s 145ms/step - loss: 0.3857 - accuracy: 0.8619 - val_loss: 0.2941 - val_accuracy: 0.8936\n",
      "Epoch 8/20\n",
      "144/144 [==============================] - 20s 140ms/step - loss: 0.3539 - accuracy: 0.8738 - val_loss: 0.2836 - val_accuracy: 0.8969\n",
      "Epoch 9/20\n",
      "144/144 [==============================] - 21s 142ms/step - loss: 0.3289 - accuracy: 0.8853 - val_loss: 0.2577 - val_accuracy: 0.9085\n",
      "Epoch 10/20\n",
      "144/144 [==============================] - 21s 143ms/step - loss: 0.3151 - accuracy: 0.8891 - val_loss: 0.2369 - val_accuracy: 0.9177\n",
      "Epoch 11/20\n",
      "144/144 [==============================] - 20s 139ms/step - loss: 0.2870 - accuracy: 0.8985 - val_loss: 0.2196 - val_accuracy: 0.9228\n",
      "Epoch 12/20\n",
      "144/144 [==============================] - 20s 140ms/step - loss: 0.2594 - accuracy: 0.9103 - val_loss: 0.1949 - val_accuracy: 0.9312\n",
      "Epoch 13/20\n",
      "144/144 [==============================] - 21s 142ms/step - loss: 0.2372 - accuracy: 0.9181 - val_loss: 0.1776 - val_accuracy: 0.9403\n",
      "Epoch 14/20\n",
      "144/144 [==============================] - 21s 147ms/step - loss: 0.2193 - accuracy: 0.9245 - val_loss: 0.1588 - val_accuracy: 0.9445\n",
      "Epoch 15/20\n",
      "144/144 [==============================] - 21s 143ms/step - loss: 0.2069 - accuracy: 0.9291 - val_loss: 0.1445 - val_accuracy: 0.9520\n",
      "Epoch 16/20\n",
      "144/144 [==============================] - 20s 141ms/step - loss: 0.1931 - accuracy: 0.9348 - val_loss: 0.1469 - val_accuracy: 0.9498\n",
      "Epoch 17/20\n",
      "144/144 [==============================] - 21s 145ms/step - loss: 0.1809 - accuracy: 0.9385 - val_loss: 0.1236 - val_accuracy: 0.9609\n",
      "Epoch 18/20\n",
      "144/144 [==============================] - 22s 151ms/step - loss: 0.1697 - accuracy: 0.9422 - val_loss: 0.1168 - val_accuracy: 0.9629\n",
      "Epoch 19/20\n",
      "144/144 [==============================] - 21s 143ms/step - loss: 0.1639 - accuracy: 0.9449 - val_loss: 0.1144 - val_accuracy: 0.9618\n",
      "Epoch 20/20\n",
      "144/144 [==============================] - 21s 142ms/step - loss: 0.1502 - accuracy: 0.9496 - val_loss: 0.1015 - val_accuracy: 0.9677\n"
     ]
    }
   ],
   "source": [
    "# Initial Training\n",
    "history = model.fit(train_set,\n",
    "                    epochs=20,\n",
    "                    validation_data=val_set)"
   ],
   "metadata": {
    "collapsed": false,
    "pycharm": {
     "name": "#%%\n"
    }
   }
  },
  {
   "cell_type": "code",
   "execution_count": 11,
   "outputs": [
    {
     "data": {
      "text/plain": "<Figure size 576x576 with 2 Axes>",
      "image/png": "[encoded data removed]"
     },
     "metadata": {
      "needs_background": "light"
     },
     "output_type": "display_data"
    }
   ],
   "source": [
    "import matplotlib.pyplot as plt\n",
    "acc = history.history['accuracy']\n",
    "val_acc = history.history['val_accuracy']\n",
    "\n",
    "loss = history.history['loss']\n",
    "val_loss = history.history['val_loss']\n",
    "\n",
    "plt.figure(figsize=(8, 8))\n",
    "plt.subplot(2, 1, 1)\n",
    "plt.plot(acc, label='Training Accuracy')\n",
    "plt.plot(val_acc, label='Validation Accuracy')\n",
    "plt.legend(loc='lower right')\n",
    "plt.ylabel('Accuracy')\n",
    "plt.ylim([min(plt.ylim()),1])\n",
    "plt.title('Training and Validation Accuracy')\n",
    "\n",
    "plt.subplot(2, 1, 2)\n",
    "plt.plot(loss, label='Training Loss')\n",
    "plt.plot(val_loss, label='Validation Loss')\n",
    "plt.legend(loc='upper right')\n",
    "plt.ylabel('Cross Entropy')\n",
    "plt.ylim([0,1.0])\n",
    "plt.title('Training and Validation Loss')\n",
    "plt.xlabel('epoch')\n",
    "plt.show()"
   ],
   "metadata": {
    "collapsed": false,
    "pycharm": {
     "name": "#%%\n"
    }
   }
  },
  {
   "cell_type": "code",
   "execution_count": 12,
   "outputs": [
    {
     "data": {
      "text/plain": "10"
     },
     "execution_count": 12,
     "metadata": {},
     "output_type": "execute_result"
    }
   ],
   "source": [
    "len(model.trainable_variables)"
   ],
   "metadata": {
    "collapsed": false,
    "pycharm": {
     "name": "#%%\n"
    }
   }
  },
  {
   "cell_type": "code",
   "execution_count": 13,
   "outputs": [
    {
     "name": "stdout",
     "output_type": "stream",
     "text": [
      "20/20 [==============================] - 8s 315ms/step - loss: 0.1053 - accuracy: 0.9655\n",
      "Test accuracy : 0.965527355670929\n"
     ]
    }
   ],
   "source": [
    "loss, accuracy = model.evaluate(test_set)\n",
    "print('Test accuracy :', accuracy)"
   ],
   "metadata": {
    "collapsed": false,
    "pycharm": {
     "name": "#%%\n"
    }
   }
  },
  {
   "cell_type": "code",
   "execution_count": 14,
   "outputs": [
    {
     "name": "stdout",
     "output_type": "stream",
     "text": [
      "INFO:tensorflow:Assets written to: /media/teera/buffer/model/classification/chess/binary/assets\n"
     ]
    }
   ],
   "source": [
    "# Save Tensorflow model (*.pb)\n",
    "model_config = json.load(open(os.path.join('../../config/model_config.json')))\n",
    "saved_model_path = os.path.join(model_config['base_path'], model_config['binary_classifier'])\n",
    "model.save(saved_model_path)"
   ],
   "metadata": {
    "collapsed": false,
    "pycharm": {
     "name": "#%%\n"
    }
   }
  },
  {
   "cell_type": "markdown",
   "source": [
    "## Convert the TensorFlow model with OpenVINO Model Optimizer"
   ],
   "metadata": {
    "collapsed": false,
    "pycharm": {
     "name": "#%% md\n"
    }
   }
  },
  {
   "cell_type": "code",
   "execution_count": 15,
   "outputs": [
    {
     "name": "stdout",
     "output_type": "stream",
     "text": [
      "Model Optimizer command to convert TensorFlow to OpenVINO:\n",
      "mo --saved_model_dir \"/media/teera/buffer/model/classification/chess/binary\" --input_shape \"[-1,100,100,3]\" --data_type \"FP16\" --output_dir \"/media/teera/buffer/model/classification/chess/binary\" --model_name \"binary_ir\"\n"
     ]
    }
   ],
   "source": [
    "# The paths of the source and converted models\n",
    "model_name = \"binary\"\n",
    "ir_data_type = \"FP16\"\n",
    "ir_model_name = \"binary_ir\"\n",
    "\n",
    "# Get the path to the Model Optimizer script\n",
    "\n",
    "# Construct the command for Model Optimizer\n",
    "mo_command = f\"\"\"mo\n",
    "                 --saved_model_dir \"{saved_model_path}\"\n",
    "                 --input_shape \"[-1,100,100,3]\"\n",
    "                 --data_type \"{ir_data_type}\"\n",
    "                 --output_dir \"{saved_model_path}\"\n",
    "                 --model_name \"{ir_model_name}\"\n",
    "                 \"\"\"\n",
    "mo_command = \" \".join(mo_command.split())\n",
    "print(\"Model Optimizer command to convert TensorFlow to OpenVINO:\")\n",
    "print(mo_command)"
   ],
   "metadata": {
    "collapsed": false,
    "pycharm": {
     "name": "#%%\n"
    }
   }
  },
  {
   "cell_type": "code",
   "execution_count": 16,
   "outputs": [
    {
     "name": "stdout",
     "output_type": "stream",
     "text": [
      "Exporting TensorFlow model to IR... This may take a few minutes.\n",
      "Model Optimizer arguments:\n",
      "Common parameters:\n",
      "\t- Path to the Input Model: \tNone\n",
      "\t- Path for generated IR: \t/media/teera/buffer/model/classification/chess/binary\n",
      "\t- IR output name: \tbinary_ir\n",
      "\t- Log level: \tERROR\n",
      "\t- Batch: \tNot specified, inherited from the model\n",
      "\t- Input layers: \tNot specified, inherited from the model\n",
      "\t- Output layers: \tNot specified, inherited from the model\n",
      "\t- Input shapes: \t[-1,100,100,3]\n",
      "\t- Source layout: \tNot specified\n",
      "\t- Target layout: \tNot specified\n",
      "\t- Layout: \tNot specified\n",
      "\t- Mean values: \tNot specified\n",
      "\t- Scale values: \tNot specified\n",
      "\t- Scale factor: \tNot specified\n",
      "\t- Precision of IR: \tFP16\n",
      "\t- Enable fusing: \tTrue\n",
      "\t- User transformations: \tNot specified\n",
      "\t- Reverse input channels: \tFalse\n",
      "\t- Enable IR generation for fixed input shape: \tFalse\n",
      "\t- Use the transformations config file: \tNone\n",
      "Advanced parameters:\n",
      "\t- Force the usage of legacy Frontend of Model Optimizer for model conversion into IR: \tFalse\n",
      "\t- Force the usage of new Frontend of Model Optimizer for model conversion into IR: \tFalse\n",
      "TensorFlow specific parameters:\n",
      "\t- Input model in text protobuf format: \tFalse\n",
      "\t- Path to model dump for TensorBoard: \tNone\n",
      "\t- List of shared libraries with TensorFlow custom layers implementation: \tNone\n",
      "\t- Update the configuration file with input/output node names: \tNone\n",
      "\t- Use configuration file used to generate the model with Object Detection API: \tNone\n",
      "\t- Use the config file: \tNone\n",
      "OpenVINO runtime found in: \t/home/teera/openvino_env/lib/python3.8/site-packages/openvino\n",
      "OpenVINO runtime version: \t2022.1.0-7019-cdb9bec7210-releases/2022/1\n",
      "Model Optimizer version: \t2022.1.0-7019-cdb9bec7210-releases/2022/1\n",
      "[ WARNING ]  The model contains input(s) with partially defined shapes: name=\"input_1\" shape=\"[-1, 100, 100, 3]\". Starting from the 2022.1 release the Model Optimizer can generate an IR with partially defined input shapes (\"-1\" dimension in the TensorFlow model or dimension with string value in the ONNX model). Some of the OpenVINO plugins require model input shapes to be static, so you should call \"reshape\" method in the Inference Engine and specify static input shapes. For optimal performance, it is still recommended to update input shapes with fixed ones using \"--input\" or \"--input_shape\" command-line parameters.\n",
      "[ SUCCESS ] Generated IR version 11 model.\n",
      "[ SUCCESS ] XML file: /media/teera/buffer/model/classification/chess/binary/binary_ir.xml\n",
      "[ SUCCESS ] BIN file: /media/teera/buffer/model/classification/chess/binary/binary_ir.bin\n",
      "[ SUCCESS ] Total execution time: 2.61 seconds. \n",
      "[ SUCCESS ] Memory consumed: 1049 MB. \n",
      "It's been a while, check for a new version of Intel(R) Distribution of OpenVINO(TM) toolkit here https://software.intel.com/content/www/us/en/develop/tools/openvino-toolkit/download.html?cid=other&source=prod&campid=ww_2022_bu_IOTG_OpenVINO-2022-1&content=upg_all&medium=organic or on the GitHub*\n",
      "[ INFO ] The model was converted to IR v11, the latest model format that corresponds to the source DL framework input/output format. While IR v11 is backwards compatible with OpenVINO Inference Engine API v1.0, please use API v2.0 (as of 2022.1) to take advantage of the latest improvements in IR v11.\n",
      "Find more information about API v2.0 and IR v11 at https://docs.openvino.ai\n"
     ]
    }
   ],
   "source": [
    "# Run the Model Optimizer (overwrites the older model)\n",
    "print(\"Exporting TensorFlow model to IR... This may take a few minutes.\")\n",
    "mo_result = %sx $mo_command\n",
    "print(\"\\n\".join(mo_result))"
   ],
   "metadata": {
    "collapsed": false,
    "pycharm": {
     "name": "#%%\n"
    }
   }
  },
  {
   "cell_type": "markdown",
   "source": [
    "## Test"
   ],
   "metadata": {
    "collapsed": false,
    "pycharm": {
     "name": "#%% md\n"
    }
   }
  },
  {
   "cell_type": "code",
   "execution_count": 17,
   "outputs": [
    {
     "name": "stdout",
     "output_type": "stream",
     "text": [
      "INFO:tensorflow:Assets written to: /media/teera/buffer/model/classification/chess/binary/assets\n"
     ]
    },
    {
     "ename": "RuntimeError",
     "evalue": "Failed to create plugin /home/teera/openvino_env/lib/python3.8/site-packages/openvino/libs/libopenvino_intel_gpu_plugin.so for device GPU\nPlease, check your environment\n[CLDNN ERROR]. No GPU device was found.\n",
     "output_type": "error",
     "traceback": [
      "\u001B[0;31m---------------------------------------------------------------------------\u001B[0m",
      "\u001B[0;31mRuntimeError\u001B[0m                              Traceback (most recent call last)",
      "\u001B[0;32m<ipython-input-17-60f167a438ad>\u001B[0m in \u001B[0;36m<module>\u001B[0;34m\u001B[0m\n\u001B[1;32m     13\u001B[0m \u001B[0;34m\u001B[0m\u001B[0m\n\u001B[1;32m     14\u001B[0m \u001B[0mcompiled_model\u001B[0m \u001B[0;34m=\u001B[0m \u001B[0mie\u001B[0m\u001B[0;34m.\u001B[0m\u001B[0mcompile_model\u001B[0m\u001B[0;34m(\u001B[0m\u001B[0mmodel\u001B[0m\u001B[0;34m=\u001B[0m\u001B[0mmodel\u001B[0m\u001B[0;34m,\u001B[0m \u001B[0mdevice_name\u001B[0m\u001B[0;34m=\u001B[0m\u001B[0;34m\"CPU\"\u001B[0m\u001B[0;34m)\u001B[0m\u001B[0;34m\u001B[0m\u001B[0;34m\u001B[0m\u001B[0m\n\u001B[0;32m---> 15\u001B[0;31m \u001B[0mcompiled_model_binary\u001B[0m \u001B[0;34m=\u001B[0m \u001B[0mie\u001B[0m\u001B[0;34m.\u001B[0m\u001B[0mcompile_model\u001B[0m\u001B[0;34m(\u001B[0m\u001B[0mmodel\u001B[0m\u001B[0;34m,\u001B[0m \u001B[0;34m\"GPU\"\u001B[0m\u001B[0;34m,\u001B[0m \u001B[0;34m{\u001B[0m\u001B[0;34m\"PERFORMANCE_HINT\"\u001B[0m\u001B[0;34m:\u001B[0m \u001B[0;34m\"THROUGHPUT\"\u001B[0m\u001B[0;34m}\u001B[0m\u001B[0;34m)\u001B[0m\u001B[0;34m\u001B[0m\u001B[0;34m\u001B[0m\u001B[0m\n\u001B[0m\u001B[1;32m     16\u001B[0m \u001B[0minfer_request_binary\u001B[0m \u001B[0;34m=\u001B[0m \u001B[0mcompiled_model_binary\u001B[0m\u001B[0;34m.\u001B[0m\u001B[0mcreate_infer_request\u001B[0m\u001B[0;34m(\u001B[0m\u001B[0;34m)\u001B[0m\u001B[0;34m\u001B[0m\u001B[0;34m\u001B[0m\u001B[0m\n\u001B[1;32m     17\u001B[0m \u001B[0;34m\u001B[0m\u001B[0m\n",
      "\u001B[0;32m~/openvino_env/lib/python3.8/site-packages/openvino/runtime/ie_api.py\u001B[0m in \u001B[0;36mcompile_model\u001B[0;34m(self, model, device_name, config)\u001B[0m\n\u001B[1;32m    264\u001B[0m \u001B[0;34m\u001B[0m\u001B[0m\n\u001B[1;32m    265\u001B[0m         return CompiledModel(\n\u001B[0;32m--> 266\u001B[0;31m             \u001B[0msuper\u001B[0m\u001B[0;34m(\u001B[0m\u001B[0;34m)\u001B[0m\u001B[0;34m.\u001B[0m\u001B[0mcompile_model\u001B[0m\u001B[0;34m(\u001B[0m\u001B[0mmodel\u001B[0m\u001B[0;34m,\u001B[0m \u001B[0mdevice_name\u001B[0m\u001B[0;34m,\u001B[0m \u001B[0;34m{\u001B[0m\u001B[0;34m}\u001B[0m \u001B[0;32mif\u001B[0m \u001B[0mconfig\u001B[0m \u001B[0;32mis\u001B[0m \u001B[0;32mNone\u001B[0m \u001B[0;32melse\u001B[0m \u001B[0mconfig\u001B[0m\u001B[0;34m)\u001B[0m\u001B[0;34m\u001B[0m\u001B[0;34m\u001B[0m\u001B[0m\n\u001B[0m\u001B[1;32m    267\u001B[0m         )\n\u001B[1;32m    268\u001B[0m \u001B[0;34m\u001B[0m\u001B[0m\n",
      "\u001B[0;31mRuntimeError\u001B[0m: Failed to create plugin /home/teera/openvino_env/lib/python3.8/site-packages/openvino/libs/libopenvino_intel_gpu_plugin.so for device GPU\nPlease, check your environment\n[CLDNN ERROR]. No GPU device was found.\n"
     ]
    }
   ],
   "source": [
    "from openvino.runtime import Core\n",
    "\n",
    "model_config = json.load(open(os.path.join('../../config/model_config.json')))\n",
    "saved_model_path = os.path.join(model_config['base_path'], model_config['binary_classifier'])\n",
    "model.save(saved_model_path)\n",
    "model_xml = os.path.join(saved_model_path, f\"{ir_model_name}.xml\")\n",
    "model_weight = os.path.join(saved_model_path, f\"{ir_model_name}.bin\")\n",
    "\n",
    "# Load model\n",
    "ie = Core()\n",
    "model = ie.read_model(model=model_xml, weights=model_weight)\n",
    "model.reshape([64, 100, 100, 3]) # set input as fixed batch\n",
    "\n",
    "compiled_model = ie.compile_model(model=model, device_name=\"CPU\")\n",
    "compiled_model_binary = ie.compile_model(model, \"GPU\", {\"PERFORMANCE_HINT\": \"THROUGHPUT\"})\n",
    "infer_request_binary = compiled_model_binary.create_infer_request()\n",
    "\n",
    "# infer_request_binary.infer([CNNinputs_padded])\n",
    "# board_result_binary = infer_request_binary.get_output_tensor().data[:].reshape(8, 8)\n",
    "\n",
    "# del model\n",
    "\n",
    "input_layer = compiled_model.input(0)\n",
    "output_layer = compiled_model.output(0)\n",
    "print(input_layer, output_layer)"
   ],
   "metadata": {
    "collapsed": false,
    "pycharm": {
     "name": "#%%\n"
    }
   }
  },
  {
   "cell_type": "code",
   "execution_count": null,
   "outputs": [],
   "source": [
    "# Run inference on the test image...\n",
    "test_image = cv2.imread(\"../test_CNNinputs.png\")\n",
    "plt.imshow(cv2.cvtColor(test_image, code=cv2.COLOR_BGR2RGB))\n",
    "CNNinputs_resized = []\n",
    "for i in range(8):\n",
    "    for j in range(8):\n",
    "        tile_img = test_image[100*i:100*(i+1),100*j:100*(j+1)]\n",
    "        # Resize the image to the network input shape.\n",
    "        resized_image = cv2.resize(src=tile_img, dsize=IMAGE_SIZE[:2])\n",
    "        # Transpose the image to the network input shape.\n",
    "        input_image = np.expand_dims(resized_image, 0)\n",
    "        CNNinputs_resized.append(input_image.reshape(IMAGE_SIZE))\n",
    "\n",
    "print(len(CNNinputs_resized))\n",
    "print(CNNinputs_resized[0].shape)\n",
    "infer_request_binary.infer([CNNinputs_resized])\n",
    "board_result_binary = infer_request_binary.get_output_tensor().data[:].reshape(8, 8)\n",
    "board_result_binary = np.where(board_result_binary < 0, 0, 1)   # Interpreted prediction\n",
    "print(board_result_binary)"
   ],
   "metadata": {
    "collapsed": false,
    "pycharm": {
     "name": "#%%\n"
    }
   }
  }
 ],
 "metadata": {
  "kernelspec": {
   "display_name": "Python 3",
   "language": "python",
   "name": "python3"
  },
  "language_info": {
   "codemirror_mode": {
    "name": "ipython",
    "version": 2
   },
   "file_extension": ".py",
   "mimetype": "text/x-python",
   "name": "python",
   "nbconvert_exporter": "python",
   "pygments_lexer": "ipython2",
   "version": "2.7.6"
  }
 },
 "nbformat": 4,
 "nbformat_minor": 0
}