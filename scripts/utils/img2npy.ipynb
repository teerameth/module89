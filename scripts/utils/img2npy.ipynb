{
 "cells": [
  {
   "cell_type": "code",
   "execution_count": 67,
   "metadata": {
    "collapsed": true
   },
   "outputs": [],
   "source": [
    "import numpy as np\n",
    "import os\n",
    "import glob"
   ]
  },
  {
   "cell_type": "code",
   "execution_count": 68,
   "outputs": [],
   "source": [
    "# chess\n",
    "base_path = \"/home/teera/dataset/chess\"\n",
    "angle_list = ['30', '40', '50']"
   ],
   "metadata": {
    "collapsed": false,
    "pycharm": {
     "name": "#%%\n"
    }
   }
  },
  {
   "cell_type": "code",
   "execution_count": 69,
   "outputs": [
    {
     "name": "stdout",
     "output_type": "stream",
     "text": [
      "176870 176870\n",
      "(array(['b', 'k', 'n', 'p', 'q', 'r'], dtype='<U1'), array([25407, 20558, 27442, 55222, 20658, 27583]))\n",
      "(array(['b', 'k', 'n', 'p', 'q', 'r'], dtype='<U1'), array([5000, 5000, 5000, 5000, 5000, 5000]))\n"
     ]
    }
   ],
   "source": [
    "all_files = []\n",
    "all_lables = []\n",
    "for angle in angle_list:\n",
    "    folders_path = glob.glob(os.path.join(base_path, angle, '*')) # /home/teera/dataset/chess/30/b\n",
    "    for folder_path in folders_path:\n",
    "        label = folder_path[-1]\n",
    "        for file_path in glob.glob(os.path.join(folder_path, '*')):\n",
    "            all_files.append(file_path)\n",
    "            all_lables.append(label)\n",
    "print(len(all_files), len(all_lables))\n",
    "print(np.unique(all_lables, return_counts=True))\n",
    "\n",
    "n=5000\n",
    "all_lables = np.array(all_lables)\n",
    "mask = np.hstack([np.random.choice(np.where(all_lables == l)[0], n, replace=False) for l in np.unique(all_lables)])\n",
    "selected_files = []\n",
    "selected_labels = []\n",
    "for index in mask:\n",
    "    selected_files.append(all_files[index])\n",
    "    selected_labels.append(all_lables[index])\n",
    "print(np.unique(selected_labels, return_counts=True))"
   ],
   "metadata": {
    "collapsed": false,
    "pycharm": {
     "name": "#%%\n"
    }
   }
  },
  {
   "cell_type": "code",
   "execution_count": null,
   "outputs": [],
   "source": [],
   "metadata": {
    "collapsed": false,
    "pycharm": {
     "name": "#%%\n"
    }
   }
  },
  {
   "cell_type": "code",
   "execution_count": 71,
   "outputs": [],
   "source": [
    "# binary\n",
    "base_path = \"/home/teera/dataset/binary\"\n",
    "angle_list = ['0', '10', '20']"
   ],
   "metadata": {
    "collapsed": false,
    "pycharm": {
     "name": "#%%\n"
    }
   }
  },
  {
   "cell_type": "code",
   "execution_count": 72,
   "outputs": [
    {
     "name": "stdout",
     "output_type": "stream",
     "text": [
      "110852 110852\n",
      "(array(['_', 'c'], dtype='<U1'), array([39920, 70932]))\n",
      "(array(['_', 'c'], dtype='<U1'), array([5000, 5000]))\n"
     ]
    }
   ],
   "source": [
    "all_files = []\n",
    "all_lables = []\n",
    "for angle in angle_list:\n",
    "    folders_path = glob.glob(os.path.join(base_path, angle, '*')) # /home/teera/dataset/chess/30/b\n",
    "    for folder_path in folders_path:\n",
    "        label = folder_path[-1]\n",
    "        for file_path in glob.glob(os.path.join(folder_path, '*')):\n",
    "            all_files.append(file_path)\n",
    "            all_lables.append(label)\n",
    "print(len(all_files), len(all_lables))\n",
    "print(np.unique(all_lables, return_counts=True))\n",
    "\n",
    "n=5000\n",
    "all_lables = np.array(all_lables)\n",
    "mask = np.hstack([np.random.choice(np.where(all_lables == l)[0], n, replace=False) for l in np.unique(all_lables)])\n",
    "selected_files = []\n",
    "selected_labels = []\n",
    "for index in mask:\n",
    "    selected_files.append(all_files[index])\n",
    "    selected_labels.append(all_lables[index])\n",
    "print(np.unique(selected_labels, return_counts=True))"
   ],
   "metadata": {
    "collapsed": false,
    "pycharm": {
     "name": "#%%\n"
    }
   }
  },
  {
   "cell_type": "code",
   "execution_count": null,
   "outputs": [],
   "source": [],
   "metadata": {
    "collapsed": false,
    "pycharm": {
     "name": "#%%\n"
    }
   }
  }
 ],
 "metadata": {
  "kernelspec": {
   "display_name": "Python 3",
   "language": "python",
   "name": "python3"
  },
  "language_info": {
   "codemirror_mode": {
    "name": "ipython",
    "version": 2
   },
   "file_extension": ".py",
   "mimetype": "text/x-python",
   "name": "python",
   "nbconvert_exporter": "python",
   "pygments_lexer": "ipython2",
   "version": "2.7.6"
  }
 },
 "nbformat": 4,
 "nbformat_minor": 0
}