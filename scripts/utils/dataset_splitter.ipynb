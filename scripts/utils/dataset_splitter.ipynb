{
 "cells": [
  {
   "cell_type": "code",
   "execution_count": 6,
   "metadata": {
    "collapsed": true
   },
   "outputs": [],
   "source": [
    "import cv2\n",
    "import numpy as np\n",
    "import glob\n",
    "import os\n",
    "from tqdm import tqdm\n",
    "import matplotlib.pyplot as plt"
   ]
  },
  {
   "cell_type": "code",
   "execution_count": 7,
   "outputs": [
    {
     "name": "stdout",
     "output_type": "stream",
     "text": [
      "['/home/teera/Dataset_Module/6_all.npz', '/home/teera/Dataset_Module/4_all.npz', '/home/teera/Dataset_Module/7_all.npz', '/home/teera/Dataset_Module/12_all.npz', '/home/teera/Dataset_Module/2_all.npz', '/home/teera/Dataset_Module/1_all.npz', '/home/teera/Dataset_Module/9_all.npz', '/home/teera/Dataset_Module/10_all.npz', '/home/teera/Dataset_Module/5_all.npz', '/home/teera/Dataset_Module/3_all.npz', '/home/teera/Dataset_Module/11_all.npz']\n"
     ]
    }
   ],
   "source": [
    "dataset_path = \"/home/teera/Dataset_Module/*.npz\"\n",
    "export_path = \"/home/teera/Dataset_Module\"\n",
    "dataset_paths = glob.glob(dataset_path)\n",
    "print(dataset_paths)"
   ],
   "metadata": {
    "collapsed": false,
    "pycharm": {
     "name": "#%%\n"
    }
   }
  },
  {
   "cell_type": "code",
   "execution_count": 8,
   "outputs": [],
   "source": [
    "# data = np.load(dataset_paths[0])\n",
    "# image_list = data.get('image')\n",
    "# label_list = data.get('label')\n",
    "# angle_list = data.get('angle')"
   ],
   "metadata": {
    "collapsed": false,
    "pycharm": {
     "name": "#%%\n"
    }
   }
  },
  {
   "cell_type": "code",
   "execution_count": 9,
   "outputs": [],
   "source": [
    "# print(label_list[0], angle_list[0])\n",
    "# cv2.imshow(\"A\", image_list[0])\n",
    "# cv2.waitKey(0)\n",
    "# cv2.destroyAllWindows()"
   ],
   "metadata": {
    "collapsed": false,
    "pycharm": {
     "name": "#%%\n"
    }
   }
  },
  {
   "cell_type": "code",
   "execution_count": 10,
   "outputs": [
    {
     "name": "stderr",
     "output_type": "stream",
     "text": [
      "100%|██████████| 2680/2680 [00:00<00:00, 931913.01it/s]\n",
      "100%|██████████| 1757/1757 [00:00<00:00, 1294692.92it/s]\n",
      "100%|██████████| 1710/1710 [00:00<00:00, 1549084.20it/s]\n",
      "100%|██████████| 4062/4062 [00:00<00:00, 2173397.48it/s]\n",
      "100%|██████████| 1082/1082 [00:00<00:00, 228995.71it/s]\n",
      "0it [00:00, ?it/s]\n",
      "100%|██████████| 5048/5048 [00:00<00:00, 871848.74it/s]\n",
      "100%|██████████| 5398/5398 [00:00<00:00, 283581.37it/s]\n",
      "100%|██████████| 383/383 [00:00<00:00, 19161.90it/s]\n",
      "100%|██████████| 1912/1912 [00:00<00:00, 812431.29it/s]\n",
      "100%|██████████| 913/913 [00:00<00:00, 565475.42it/s]"
     ]
    },
    {
     "name": "stdout",
     "output_type": "stream",
     "text": [
      "(array(['_', 'c'], dtype='<U1'), array([ 9770, 15175]))\n"
     ]
    },
    {
     "name": "stderr",
     "output_type": "stream",
     "text": [
      "\n"
     ]
    }
   ],
   "source": [
    "save_image_list = []\n",
    "save_label_list = []\n",
    "seed = np.random.choice(15175, 15175)\n",
    "counter = 0\n",
    "for npz_path in dataset_paths:\n",
    "    save_name = os.path.basename(npz_path).split('_')[0]\n",
    "    data = np.load(npz_path)\n",
    "    image_list = data.get('image')\n",
    "    label_list = data.get('label')\n",
    "    angle_list = data.get('angle')\n",
    "    # plt.plot(angle_list)\n",
    "    # plt.ylabel('some numbers')\n",
    "    # plt.show()\n",
    "\n",
    "    for i in tqdm(range(len(label_list))):\n",
    "        label = label_list[i]\n",
    "        image = image_list[i]\n",
    "        # Binary mode\n",
    "        if label == '_': save_label_list.append('_')\n",
    "        else: save_label_list.append('c')\n",
    "\n",
    "        # Chess mode\n",
    "        # if label == '_': continue   # exclude empty\n",
    "        # save_image_list.append(image)\n",
    "        # save_label_list.append(label)\n",
    "print(np.unique(save_label_list, return_counts=True))\n",
    "# np.save(os.path.join(export_path, 'data_chess.npy'), save_image_list)\n",
    "np.save(os.path.join(export_path, 'label_chess.npy'), save_label_list)\n"
   ],
   "metadata": {
    "collapsed": false,
    "pycharm": {
     "name": "#%%\n"
    }
   }
  }
 ],
 "metadata": {
  "kernelspec": {
   "display_name": "Python 3",
   "language": "python",
   "name": "python3"
  },
  "language_info": {
   "codemirror_mode": {
    "name": "ipython",
    "version": 2
   },
   "file_extension": ".py",
   "mimetype": "text/x-python",
   "name": "python",
   "nbconvert_exporter": "python",
   "pygments_lexer": "ipython2",
   "version": "2.7.6"
  }
 },
 "nbformat": 4,
 "nbformat_minor": 0
}